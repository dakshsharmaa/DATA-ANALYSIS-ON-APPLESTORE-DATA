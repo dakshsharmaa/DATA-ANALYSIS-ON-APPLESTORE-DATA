{
 "cells": [
  {
   "cell_type": "code",
   "execution_count": 1,
   "metadata": {},
   "outputs": [],
   "source": [
    "import numpy as np\n",
    "import seaborn as sns\n",
    "import matplotlib.pyplot as plt\n",
    "%matplotlib inline"
   ]
  },
  {
   "cell_type": "code",
   "execution_count": 3,
   "metadata": {
    "scrolled": true
   },
   "outputs": [
    {
     "name": "stdout",
     "output_type": "stream",
     "text": [
      "{'commit_hash': '223e783c4',\n",
      " 'commit_source': 'installation',\n",
      " 'default_encoding': 'cp1252',\n",
      " 'ipython_path': 'C:\\\\Users\\\\PREDATOR\\\\anaconda3\\\\Lib\\\\site-packages\\\\IPython',\n",
      " 'ipython_version': '7.19.0',\n",
      " 'os_name': 'nt',\n",
      " 'platform': 'Windows-10-10.0.19041-SP0',\n",
      " 'sys_executable': 'C:\\\\Users\\\\PREDATOR\\\\anaconda3\\\\python.exe',\n",
      " 'sys_platform': 'win32',\n",
      " 'sys_version': '3.8.5 (default, Sep  3 2020, 21:29:08) [MSC v.1916 64 bit '\n",
      "                '(AMD64)]'}\n"
     ]
    }
   ],
   "source": [
    "import IPython\n",
    "print(IPython.sys_info())"
   ]
  },
  {
   "cell_type": "code",
   "execution_count": 13,
   "metadata": {},
   "outputs": [],
   "source": [
    "app_data = pd.read_csv('C:/Users/PREDATOR/Downloads/AppleStore.csv', index_col=0)"
   ]
  },
  {
   "cell_type": "code",
   "execution_count": 10,
   "metadata": {},
   "outputs": [
    {
     "data": {
      "text/plain": [
       "pandas.core.frame.DataFrame"
      ]
     },
     "execution_count": 10,
     "metadata": {},
     "output_type": "execute_result"
    }
   ],
   "source": [
    "type(app_data)"
   ]
  },
  {
   "cell_type": "code",
   "execution_count": 7,
   "metadata": {},
   "outputs": [
    {
     "data": {
      "text/html": [
       "<div>\n",
       "<style scoped>\n",
       "    .dataframe tbody tr th:only-of-type {\n",
       "        vertical-align: middle;\n",
       "    }\n",
       "\n",
       "    .dataframe tbody tr th {\n",
       "        vertical-align: top;\n",
       "    }\n",
       "\n",
       "    .dataframe thead th {\n",
       "        text-align: right;\n",
       "    }\n",
       "</style>\n",
       "<table border=\"1\" class=\"dataframe\">\n",
       "  <thead>\n",
       "    <tr style=\"text-align: right;\">\n",
       "      <th></th>\n",
       "      <th>Unnamed: 0</th>\n",
       "      <th>id</th>\n",
       "      <th>track_name</th>\n",
       "      <th>size_bytes</th>\n",
       "      <th>currency</th>\n",
       "      <th>price</th>\n",
       "      <th>rating_count_tot</th>\n",
       "      <th>rating_count_ver</th>\n",
       "      <th>user_rating</th>\n",
       "      <th>user_rating_ver</th>\n",
       "      <th>ver</th>\n",
       "      <th>cont_rating</th>\n",
       "      <th>prime_genre</th>\n",
       "      <th>sup_devices.num</th>\n",
       "      <th>ipadSc_urls.num</th>\n",
       "      <th>lang.num</th>\n",
       "      <th>vpp_lic</th>\n",
       "    </tr>\n",
       "  </thead>\n",
       "  <tbody>\n",
       "    <tr>\n",
       "      <th>0</th>\n",
       "      <td>1</td>\n",
       "      <td>281656475</td>\n",
       "      <td>PAC-MAN Premium</td>\n",
       "      <td>100788224</td>\n",
       "      <td>USD</td>\n",
       "      <td>3.99</td>\n",
       "      <td>21292</td>\n",
       "      <td>26</td>\n",
       "      <td>4.0</td>\n",
       "      <td>4.5</td>\n",
       "      <td>6.3.5</td>\n",
       "      <td>4+</td>\n",
       "      <td>Games</td>\n",
       "      <td>38</td>\n",
       "      <td>5</td>\n",
       "      <td>10</td>\n",
       "      <td>1</td>\n",
       "    </tr>\n",
       "    <tr>\n",
       "      <th>1</th>\n",
       "      <td>2</td>\n",
       "      <td>281796108</td>\n",
       "      <td>Evernote - stay organized</td>\n",
       "      <td>158578688</td>\n",
       "      <td>USD</td>\n",
       "      <td>0.00</td>\n",
       "      <td>161065</td>\n",
       "      <td>26</td>\n",
       "      <td>4.0</td>\n",
       "      <td>3.5</td>\n",
       "      <td>8.2.2</td>\n",
       "      <td>4+</td>\n",
       "      <td>Productivity</td>\n",
       "      <td>37</td>\n",
       "      <td>5</td>\n",
       "      <td>23</td>\n",
       "      <td>1</td>\n",
       "    </tr>\n",
       "    <tr>\n",
       "      <th>2</th>\n",
       "      <td>3</td>\n",
       "      <td>281940292</td>\n",
       "      <td>WeatherBug - Local Weather, Radar, Maps, Alerts</td>\n",
       "      <td>100524032</td>\n",
       "      <td>USD</td>\n",
       "      <td>0.00</td>\n",
       "      <td>188583</td>\n",
       "      <td>2822</td>\n",
       "      <td>3.5</td>\n",
       "      <td>4.5</td>\n",
       "      <td>5.0.0</td>\n",
       "      <td>4+</td>\n",
       "      <td>Weather</td>\n",
       "      <td>37</td>\n",
       "      <td>5</td>\n",
       "      <td>3</td>\n",
       "      <td>1</td>\n",
       "    </tr>\n",
       "    <tr>\n",
       "      <th>3</th>\n",
       "      <td>4</td>\n",
       "      <td>282614216</td>\n",
       "      <td>eBay: Best App to Buy, Sell, Save! Online Shop...</td>\n",
       "      <td>128512000</td>\n",
       "      <td>USD</td>\n",
       "      <td>0.00</td>\n",
       "      <td>262241</td>\n",
       "      <td>649</td>\n",
       "      <td>4.0</td>\n",
       "      <td>4.5</td>\n",
       "      <td>5.10.0</td>\n",
       "      <td>12+</td>\n",
       "      <td>Shopping</td>\n",
       "      <td>37</td>\n",
       "      <td>5</td>\n",
       "      <td>9</td>\n",
       "      <td>1</td>\n",
       "    </tr>\n",
       "    <tr>\n",
       "      <th>4</th>\n",
       "      <td>5</td>\n",
       "      <td>282935706</td>\n",
       "      <td>Bible</td>\n",
       "      <td>92774400</td>\n",
       "      <td>USD</td>\n",
       "      <td>0.00</td>\n",
       "      <td>985920</td>\n",
       "      <td>5320</td>\n",
       "      <td>4.5</td>\n",
       "      <td>5.0</td>\n",
       "      <td>7.5.1</td>\n",
       "      <td>4+</td>\n",
       "      <td>Reference</td>\n",
       "      <td>37</td>\n",
       "      <td>5</td>\n",
       "      <td>45</td>\n",
       "      <td>1</td>\n",
       "    </tr>\n",
       "  </tbody>\n",
       "</table>\n",
       "</div>"
      ],
      "text/plain": [
       "   Unnamed: 0         id                                         track_name  \\\n",
       "0           1  281656475                                    PAC-MAN Premium   \n",
       "1           2  281796108                          Evernote - stay organized   \n",
       "2           3  281940292    WeatherBug - Local Weather, Radar, Maps, Alerts   \n",
       "3           4  282614216  eBay: Best App to Buy, Sell, Save! Online Shop...   \n",
       "4           5  282935706                                              Bible   \n",
       "\n",
       "   size_bytes currency  price  rating_count_tot  rating_count_ver  \\\n",
       "0   100788224      USD   3.99             21292                26   \n",
       "1   158578688      USD   0.00            161065                26   \n",
       "2   100524032      USD   0.00            188583              2822   \n",
       "3   128512000      USD   0.00            262241               649   \n",
       "4    92774400      USD   0.00            985920              5320   \n",
       "\n",
       "   user_rating  user_rating_ver     ver cont_rating   prime_genre  \\\n",
       "0          4.0              4.5   6.3.5          4+         Games   \n",
       "1          4.0              3.5   8.2.2          4+  Productivity   \n",
       "2          3.5              4.5   5.0.0          4+       Weather   \n",
       "3          4.0              4.5  5.10.0         12+      Shopping   \n",
       "4          4.5              5.0   7.5.1          4+     Reference   \n",
       "\n",
       "   sup_devices.num  ipadSc_urls.num  lang.num  vpp_lic  \n",
       "0               38                5        10        1  \n",
       "1               37                5        23        1  \n",
       "2               37                5         3        1  \n",
       "3               37                5         9        1  \n",
       "4               37                5        45        1  "
      ]
     },
     "execution_count": 7,
     "metadata": {},
     "output_type": "execute_result"
    }
   ],
   "source": [
    "app_data.head()"
   ]
  },
  {
   "cell_type": "code",
   "execution_count": 8,
   "metadata": {},
   "outputs": [
    {
     "data": {
      "text/html": [
       "<div>\n",
       "<style scoped>\n",
       "    .dataframe tbody tr th:only-of-type {\n",
       "        vertical-align: middle;\n",
       "    }\n",
       "\n",
       "    .dataframe tbody tr th {\n",
       "        vertical-align: top;\n",
       "    }\n",
       "\n",
       "    .dataframe thead th {\n",
       "        text-align: right;\n",
       "    }\n",
       "</style>\n",
       "<table border=\"1\" class=\"dataframe\">\n",
       "  <thead>\n",
       "    <tr style=\"text-align: right;\">\n",
       "      <th></th>\n",
       "      <th>Unnamed: 0</th>\n",
       "      <th>id</th>\n",
       "      <th>track_name</th>\n",
       "      <th>size_bytes</th>\n",
       "      <th>currency</th>\n",
       "      <th>price</th>\n",
       "      <th>rating_count_tot</th>\n",
       "      <th>rating_count_ver</th>\n",
       "      <th>user_rating</th>\n",
       "      <th>user_rating_ver</th>\n",
       "      <th>ver</th>\n",
       "      <th>cont_rating</th>\n",
       "      <th>prime_genre</th>\n",
       "      <th>sup_devices.num</th>\n",
       "      <th>ipadSc_urls.num</th>\n",
       "      <th>lang.num</th>\n",
       "      <th>vpp_lic</th>\n",
       "    </tr>\n",
       "  </thead>\n",
       "  <tbody>\n",
       "    <tr>\n",
       "      <th>7192</th>\n",
       "      <td>11081</td>\n",
       "      <td>1187617475</td>\n",
       "      <td>Kubik</td>\n",
       "      <td>126644224</td>\n",
       "      <td>USD</td>\n",
       "      <td>0.00</td>\n",
       "      <td>142</td>\n",
       "      <td>75</td>\n",
       "      <td>4.5</td>\n",
       "      <td>4.5</td>\n",
       "      <td>1.3</td>\n",
       "      <td>4+</td>\n",
       "      <td>Games</td>\n",
       "      <td>38</td>\n",
       "      <td>5</td>\n",
       "      <td>1</td>\n",
       "      <td>1</td>\n",
       "    </tr>\n",
       "    <tr>\n",
       "      <th>7193</th>\n",
       "      <td>11082</td>\n",
       "      <td>1187682390</td>\n",
       "      <td>VR Roller-Coaster</td>\n",
       "      <td>120760320</td>\n",
       "      <td>USD</td>\n",
       "      <td>0.00</td>\n",
       "      <td>30</td>\n",
       "      <td>30</td>\n",
       "      <td>4.5</td>\n",
       "      <td>4.5</td>\n",
       "      <td>0.9</td>\n",
       "      <td>4+</td>\n",
       "      <td>Games</td>\n",
       "      <td>38</td>\n",
       "      <td>0</td>\n",
       "      <td>1</td>\n",
       "      <td>1</td>\n",
       "    </tr>\n",
       "    <tr>\n",
       "      <th>7194</th>\n",
       "      <td>11087</td>\n",
       "      <td>1187779532</td>\n",
       "      <td>Bret Michaels Emojis + Lyric Keyboard</td>\n",
       "      <td>111322112</td>\n",
       "      <td>USD</td>\n",
       "      <td>1.99</td>\n",
       "      <td>15</td>\n",
       "      <td>0</td>\n",
       "      <td>4.5</td>\n",
       "      <td>0.0</td>\n",
       "      <td>1.0.2</td>\n",
       "      <td>9+</td>\n",
       "      <td>Utilities</td>\n",
       "      <td>37</td>\n",
       "      <td>1</td>\n",
       "      <td>1</td>\n",
       "      <td>1</td>\n",
       "    </tr>\n",
       "    <tr>\n",
       "      <th>7195</th>\n",
       "      <td>11089</td>\n",
       "      <td>1187838770</td>\n",
       "      <td>VR Roller Coaster World - Virtual Reality</td>\n",
       "      <td>97235968</td>\n",
       "      <td>USD</td>\n",
       "      <td>0.00</td>\n",
       "      <td>85</td>\n",
       "      <td>32</td>\n",
       "      <td>4.5</td>\n",
       "      <td>4.5</td>\n",
       "      <td>1.0.15</td>\n",
       "      <td>12+</td>\n",
       "      <td>Games</td>\n",
       "      <td>38</td>\n",
       "      <td>0</td>\n",
       "      <td>2</td>\n",
       "      <td>1</td>\n",
       "    </tr>\n",
       "    <tr>\n",
       "      <th>7196</th>\n",
       "      <td>11097</td>\n",
       "      <td>1188375727</td>\n",
       "      <td>Escape the Sweet Shop Series</td>\n",
       "      <td>90898432</td>\n",
       "      <td>USD</td>\n",
       "      <td>0.00</td>\n",
       "      <td>3</td>\n",
       "      <td>3</td>\n",
       "      <td>5.0</td>\n",
       "      <td>5.0</td>\n",
       "      <td>1.0</td>\n",
       "      <td>4+</td>\n",
       "      <td>Games</td>\n",
       "      <td>40</td>\n",
       "      <td>0</td>\n",
       "      <td>2</td>\n",
       "      <td>1</td>\n",
       "    </tr>\n",
       "  </tbody>\n",
       "</table>\n",
       "</div>"
      ],
      "text/plain": [
       "      Unnamed: 0          id                                 track_name  \\\n",
       "7192       11081  1187617475                                      Kubik   \n",
       "7193       11082  1187682390                          VR Roller-Coaster   \n",
       "7194       11087  1187779532      Bret Michaels Emojis + Lyric Keyboard   \n",
       "7195       11089  1187838770  VR Roller Coaster World - Virtual Reality   \n",
       "7196       11097  1188375727               Escape the Sweet Shop Series   \n",
       "\n",
       "      size_bytes currency  price  rating_count_tot  rating_count_ver  \\\n",
       "7192   126644224      USD   0.00               142                75   \n",
       "7193   120760320      USD   0.00                30                30   \n",
       "7194   111322112      USD   1.99                15                 0   \n",
       "7195    97235968      USD   0.00                85                32   \n",
       "7196    90898432      USD   0.00                 3                 3   \n",
       "\n",
       "      user_rating  user_rating_ver     ver cont_rating prime_genre  \\\n",
       "7192          4.5              4.5     1.3          4+       Games   \n",
       "7193          4.5              4.5     0.9          4+       Games   \n",
       "7194          4.5              0.0   1.0.2          9+   Utilities   \n",
       "7195          4.5              4.5  1.0.15         12+       Games   \n",
       "7196          5.0              5.0     1.0          4+       Games   \n",
       "\n",
       "      sup_devices.num  ipadSc_urls.num  lang.num  vpp_lic  \n",
       "7192               38                5         1        1  \n",
       "7193               38                0         1        1  \n",
       "7194               37                1         1        1  \n",
       "7195               38                0         2        1  \n",
       "7196               40                0         2        1  "
      ]
     },
     "execution_count": 8,
     "metadata": {},
     "output_type": "execute_result"
    }
   ],
   "source": [
    "app_data.tail()"
   ]
  },
  {
   "cell_type": "code",
   "execution_count": 11,
   "metadata": {},
   "outputs": [
    {
     "data": {
      "text/plain": [
       "(7197, 17)"
      ]
     },
     "execution_count": 11,
     "metadata": {},
     "output_type": "execute_result"
    }
   ],
   "source": [
    "app_data.shape"
   ]
  },
  {
   "cell_type": "code",
   "execution_count": 14,
   "metadata": {},
   "outputs": [
    {
     "data": {
      "text/html": [
       "<div>\n",
       "<style scoped>\n",
       "    .dataframe tbody tr th:only-of-type {\n",
       "        vertical-align: middle;\n",
       "    }\n",
       "\n",
       "    .dataframe tbody tr th {\n",
       "        vertical-align: top;\n",
       "    }\n",
       "\n",
       "    .dataframe thead th {\n",
       "        text-align: right;\n",
       "    }\n",
       "</style>\n",
       "<table border=\"1\" class=\"dataframe\">\n",
       "  <thead>\n",
       "    <tr style=\"text-align: right;\">\n",
       "      <th></th>\n",
       "      <th>id</th>\n",
       "      <th>track_name</th>\n",
       "      <th>size_bytes</th>\n",
       "      <th>currency</th>\n",
       "      <th>price</th>\n",
       "      <th>rating_count_tot</th>\n",
       "      <th>rating_count_ver</th>\n",
       "      <th>user_rating</th>\n",
       "      <th>user_rating_ver</th>\n",
       "      <th>ver</th>\n",
       "      <th>cont_rating</th>\n",
       "      <th>prime_genre</th>\n",
       "      <th>sup_devices.num</th>\n",
       "      <th>ipadSc_urls.num</th>\n",
       "      <th>lang.num</th>\n",
       "      <th>vpp_lic</th>\n",
       "    </tr>\n",
       "  </thead>\n",
       "  <tbody>\n",
       "    <tr>\n",
       "      <th>1</th>\n",
       "      <td>281656475</td>\n",
       "      <td>PAC-MAN Premium</td>\n",
       "      <td>100788224</td>\n",
       "      <td>USD</td>\n",
       "      <td>3.99</td>\n",
       "      <td>21292</td>\n",
       "      <td>26</td>\n",
       "      <td>4.0</td>\n",
       "      <td>4.5</td>\n",
       "      <td>6.3.5</td>\n",
       "      <td>4+</td>\n",
       "      <td>Games</td>\n",
       "      <td>38</td>\n",
       "      <td>5</td>\n",
       "      <td>10</td>\n",
       "      <td>1</td>\n",
       "    </tr>\n",
       "    <tr>\n",
       "      <th>2</th>\n",
       "      <td>281796108</td>\n",
       "      <td>Evernote - stay organized</td>\n",
       "      <td>158578688</td>\n",
       "      <td>USD</td>\n",
       "      <td>0.00</td>\n",
       "      <td>161065</td>\n",
       "      <td>26</td>\n",
       "      <td>4.0</td>\n",
       "      <td>3.5</td>\n",
       "      <td>8.2.2</td>\n",
       "      <td>4+</td>\n",
       "      <td>Productivity</td>\n",
       "      <td>37</td>\n",
       "      <td>5</td>\n",
       "      <td>23</td>\n",
       "      <td>1</td>\n",
       "    </tr>\n",
       "    <tr>\n",
       "      <th>3</th>\n",
       "      <td>281940292</td>\n",
       "      <td>WeatherBug - Local Weather, Radar, Maps, Alerts</td>\n",
       "      <td>100524032</td>\n",
       "      <td>USD</td>\n",
       "      <td>0.00</td>\n",
       "      <td>188583</td>\n",
       "      <td>2822</td>\n",
       "      <td>3.5</td>\n",
       "      <td>4.5</td>\n",
       "      <td>5.0.0</td>\n",
       "      <td>4+</td>\n",
       "      <td>Weather</td>\n",
       "      <td>37</td>\n",
       "      <td>5</td>\n",
       "      <td>3</td>\n",
       "      <td>1</td>\n",
       "    </tr>\n",
       "    <tr>\n",
       "      <th>4</th>\n",
       "      <td>282614216</td>\n",
       "      <td>eBay: Best App to Buy, Sell, Save! Online Shop...</td>\n",
       "      <td>128512000</td>\n",
       "      <td>USD</td>\n",
       "      <td>0.00</td>\n",
       "      <td>262241</td>\n",
       "      <td>649</td>\n",
       "      <td>4.0</td>\n",
       "      <td>4.5</td>\n",
       "      <td>5.10.0</td>\n",
       "      <td>12+</td>\n",
       "      <td>Shopping</td>\n",
       "      <td>37</td>\n",
       "      <td>5</td>\n",
       "      <td>9</td>\n",
       "      <td>1</td>\n",
       "    </tr>\n",
       "    <tr>\n",
       "      <th>5</th>\n",
       "      <td>282935706</td>\n",
       "      <td>Bible</td>\n",
       "      <td>92774400</td>\n",
       "      <td>USD</td>\n",
       "      <td>0.00</td>\n",
       "      <td>985920</td>\n",
       "      <td>5320</td>\n",
       "      <td>4.5</td>\n",
       "      <td>5.0</td>\n",
       "      <td>7.5.1</td>\n",
       "      <td>4+</td>\n",
       "      <td>Reference</td>\n",
       "      <td>37</td>\n",
       "      <td>5</td>\n",
       "      <td>45</td>\n",
       "      <td>1</td>\n",
       "    </tr>\n",
       "  </tbody>\n",
       "</table>\n",
       "</div>"
      ],
      "text/plain": [
       "          id                                         track_name  size_bytes  \\\n",
       "1  281656475                                    PAC-MAN Premium   100788224   \n",
       "2  281796108                          Evernote - stay organized   158578688   \n",
       "3  281940292    WeatherBug - Local Weather, Radar, Maps, Alerts   100524032   \n",
       "4  282614216  eBay: Best App to Buy, Sell, Save! Online Shop...   128512000   \n",
       "5  282935706                                              Bible    92774400   \n",
       "\n",
       "  currency  price  rating_count_tot  rating_count_ver  user_rating  \\\n",
       "1      USD   3.99             21292                26          4.0   \n",
       "2      USD   0.00            161065                26          4.0   \n",
       "3      USD   0.00            188583              2822          3.5   \n",
       "4      USD   0.00            262241               649          4.0   \n",
       "5      USD   0.00            985920              5320          4.5   \n",
       "\n",
       "   user_rating_ver     ver cont_rating   prime_genre  sup_devices.num  \\\n",
       "1              4.5   6.3.5          4+         Games               38   \n",
       "2              3.5   8.2.2          4+  Productivity               37   \n",
       "3              4.5   5.0.0          4+       Weather               37   \n",
       "4              4.5  5.10.0         12+      Shopping               37   \n",
       "5              5.0   7.5.1          4+     Reference               37   \n",
       "\n",
       "   ipadSc_urls.num  lang.num  vpp_lic  \n",
       "1                5        10        1  \n",
       "2                5        23        1  \n",
       "3                5         3        1  \n",
       "4                5         9        1  \n",
       "5                5        45        1  "
      ]
     },
     "execution_count": 14,
     "metadata": {},
     "output_type": "execute_result"
    }
   ],
   "source": [
    "app_data.head()       #after removing the index column"
   ]
  },
  {
   "cell_type": "code",
   "execution_count": 16,
   "metadata": {},
   "outputs": [
    {
     "data": {
      "text/html": [
       "<div>\n",
       "<style scoped>\n",
       "    .dataframe tbody tr th:only-of-type {\n",
       "        vertical-align: middle;\n",
       "    }\n",
       "\n",
       "    .dataframe tbody tr th {\n",
       "        vertical-align: top;\n",
       "    }\n",
       "\n",
       "    .dataframe thead th {\n",
       "        text-align: right;\n",
       "    }\n",
       "</style>\n",
       "<table border=\"1\" class=\"dataframe\">\n",
       "  <thead>\n",
       "    <tr style=\"text-align: right;\">\n",
       "      <th></th>\n",
       "      <th>id</th>\n",
       "      <th>size_bytes</th>\n",
       "      <th>price</th>\n",
       "      <th>rating_count_tot</th>\n",
       "      <th>rating_count_ver</th>\n",
       "      <th>user_rating</th>\n",
       "      <th>user_rating_ver</th>\n",
       "      <th>sup_devices.num</th>\n",
       "      <th>ipadSc_urls.num</th>\n",
       "      <th>lang.num</th>\n",
       "      <th>vpp_lic</th>\n",
       "    </tr>\n",
       "  </thead>\n",
       "  <tbody>\n",
       "    <tr>\n",
       "      <th>count</th>\n",
       "      <td>7.197000e+03</td>\n",
       "      <td>7.197000e+03</td>\n",
       "      <td>7197.000000</td>\n",
       "      <td>7.197000e+03</td>\n",
       "      <td>7197.000000</td>\n",
       "      <td>7197.000000</td>\n",
       "      <td>7197.000000</td>\n",
       "      <td>7197.000000</td>\n",
       "      <td>7197.000000</td>\n",
       "      <td>7197.000000</td>\n",
       "      <td>7197.000000</td>\n",
       "    </tr>\n",
       "    <tr>\n",
       "      <th>mean</th>\n",
       "      <td>8.631310e+08</td>\n",
       "      <td>1.991345e+08</td>\n",
       "      <td>1.726218</td>\n",
       "      <td>1.289291e+04</td>\n",
       "      <td>460.373906</td>\n",
       "      <td>3.526956</td>\n",
       "      <td>3.253578</td>\n",
       "      <td>37.361817</td>\n",
       "      <td>3.707100</td>\n",
       "      <td>5.434903</td>\n",
       "      <td>0.993053</td>\n",
       "    </tr>\n",
       "    <tr>\n",
       "      <th>std</th>\n",
       "      <td>2.712368e+08</td>\n",
       "      <td>3.592069e+08</td>\n",
       "      <td>5.833006</td>\n",
       "      <td>7.573941e+04</td>\n",
       "      <td>3920.455183</td>\n",
       "      <td>1.517948</td>\n",
       "      <td>1.809363</td>\n",
       "      <td>3.737715</td>\n",
       "      <td>1.986005</td>\n",
       "      <td>7.919593</td>\n",
       "      <td>0.083066</td>\n",
       "    </tr>\n",
       "    <tr>\n",
       "      <th>min</th>\n",
       "      <td>2.816565e+08</td>\n",
       "      <td>5.898240e+05</td>\n",
       "      <td>0.000000</td>\n",
       "      <td>0.000000e+00</td>\n",
       "      <td>0.000000</td>\n",
       "      <td>0.000000</td>\n",
       "      <td>0.000000</td>\n",
       "      <td>9.000000</td>\n",
       "      <td>0.000000</td>\n",
       "      <td>0.000000</td>\n",
       "      <td>0.000000</td>\n",
       "    </tr>\n",
       "    <tr>\n",
       "      <th>25%</th>\n",
       "      <td>6.000937e+08</td>\n",
       "      <td>4.692275e+07</td>\n",
       "      <td>0.000000</td>\n",
       "      <td>2.800000e+01</td>\n",
       "      <td>1.000000</td>\n",
       "      <td>3.500000</td>\n",
       "      <td>2.500000</td>\n",
       "      <td>37.000000</td>\n",
       "      <td>3.000000</td>\n",
       "      <td>1.000000</td>\n",
       "      <td>1.000000</td>\n",
       "    </tr>\n",
       "    <tr>\n",
       "      <th>50%</th>\n",
       "      <td>9.781482e+08</td>\n",
       "      <td>9.715302e+07</td>\n",
       "      <td>0.000000</td>\n",
       "      <td>3.000000e+02</td>\n",
       "      <td>23.000000</td>\n",
       "      <td>4.000000</td>\n",
       "      <td>4.000000</td>\n",
       "      <td>37.000000</td>\n",
       "      <td>5.000000</td>\n",
       "      <td>1.000000</td>\n",
       "      <td>1.000000</td>\n",
       "    </tr>\n",
       "    <tr>\n",
       "      <th>75%</th>\n",
       "      <td>1.082310e+09</td>\n",
       "      <td>1.819249e+08</td>\n",
       "      <td>1.990000</td>\n",
       "      <td>2.793000e+03</td>\n",
       "      <td>140.000000</td>\n",
       "      <td>4.500000</td>\n",
       "      <td>4.500000</td>\n",
       "      <td>38.000000</td>\n",
       "      <td>5.000000</td>\n",
       "      <td>8.000000</td>\n",
       "      <td>1.000000</td>\n",
       "    </tr>\n",
       "    <tr>\n",
       "      <th>max</th>\n",
       "      <td>1.188376e+09</td>\n",
       "      <td>4.025970e+09</td>\n",
       "      <td>299.990000</td>\n",
       "      <td>2.974676e+06</td>\n",
       "      <td>177050.000000</td>\n",
       "      <td>5.000000</td>\n",
       "      <td>5.000000</td>\n",
       "      <td>47.000000</td>\n",
       "      <td>5.000000</td>\n",
       "      <td>75.000000</td>\n",
       "      <td>1.000000</td>\n",
       "    </tr>\n",
       "  </tbody>\n",
       "</table>\n",
       "</div>"
      ],
      "text/plain": [
       "                 id    size_bytes        price  rating_count_tot  \\\n",
       "count  7.197000e+03  7.197000e+03  7197.000000      7.197000e+03   \n",
       "mean   8.631310e+08  1.991345e+08     1.726218      1.289291e+04   \n",
       "std    2.712368e+08  3.592069e+08     5.833006      7.573941e+04   \n",
       "min    2.816565e+08  5.898240e+05     0.000000      0.000000e+00   \n",
       "25%    6.000937e+08  4.692275e+07     0.000000      2.800000e+01   \n",
       "50%    9.781482e+08  9.715302e+07     0.000000      3.000000e+02   \n",
       "75%    1.082310e+09  1.819249e+08     1.990000      2.793000e+03   \n",
       "max    1.188376e+09  4.025970e+09   299.990000      2.974676e+06   \n",
       "\n",
       "       rating_count_ver  user_rating  user_rating_ver  sup_devices.num  \\\n",
       "count       7197.000000  7197.000000      7197.000000      7197.000000   \n",
       "mean         460.373906     3.526956         3.253578        37.361817   \n",
       "std         3920.455183     1.517948         1.809363         3.737715   \n",
       "min            0.000000     0.000000         0.000000         9.000000   \n",
       "25%            1.000000     3.500000         2.500000        37.000000   \n",
       "50%           23.000000     4.000000         4.000000        37.000000   \n",
       "75%          140.000000     4.500000         4.500000        38.000000   \n",
       "max       177050.000000     5.000000         5.000000        47.000000   \n",
       "\n",
       "       ipadSc_urls.num     lang.num      vpp_lic  \n",
       "count      7197.000000  7197.000000  7197.000000  \n",
       "mean          3.707100     5.434903     0.993053  \n",
       "std           1.986005     7.919593     0.083066  \n",
       "min           0.000000     0.000000     0.000000  \n",
       "25%           3.000000     1.000000     1.000000  \n",
       "50%           5.000000     1.000000     1.000000  \n",
       "75%           5.000000     8.000000     1.000000  \n",
       "max           5.000000    75.000000     1.000000  "
      ]
     },
     "execution_count": 16,
     "metadata": {},
     "output_type": "execute_result"
    }
   ],
   "source": [
    "app_data.describe()"
   ]
  },
  {
   "cell_type": "code",
   "execution_count": 19,
   "metadata": {},
   "outputs": [
    {
     "data": {
      "text/plain": [
       "(array([ 1,  2,  3,  4,  5,  6,  7,  8,  9, 10, 11]),\n",
       " [Text(1, 0, 'id'),\n",
       "  Text(2, 0, 'size_bytes'),\n",
       "  Text(3, 0, 'price'),\n",
       "  Text(4, 0, 'rating_count_tot'),\n",
       "  Text(5, 0, 'rating_count_ver'),\n",
       "  Text(6, 0, 'user_rating'),\n",
       "  Text(7, 0, 'user_rating_ver'),\n",
       "  Text(8, 0, 'sup_devices.num'),\n",
       "  Text(9, 0, 'ipadSc_urls.num'),\n",
       "  Text(10, 0, 'lang.num'),\n",
       "  Text(11, 0, 'vpp_lic')])"
      ]
     },
     "execution_count": 19,
     "metadata": {},
     "output_type": "execute_result"
    },
    {
     "data": {
      "image/png": "[encoded data removed]",
      "text/plain": [
       "<Figure size 432x288 with 1 Axes>"
      ]
     },
     "metadata": {
      "needs_background": "light"
     },
     "output_type": "display_data"
    }
   ],
   "source": [
    "app_data.boxplot()\n",
    "plt.xticks(rotation=90)"
   ]
  },
  {
   "cell_type": "code",
   "execution_count": 45,
   "metadata": {},
   "outputs": [
    {
     "data": {
      "text/plain": [
       "<AxesSubplot:>"
      ]
     },
     "execution_count": 45,
     "metadata": {},
     "output_type": "execute_result"
    },
    {
     "data": {
      "image/png": "[encoded data removed]",
      "text/plain": [
       "<Figure size 432x288 with 1 Axes>"
      ]
     },
     "metadata": {
      "needs_background": "light"
     },
     "output_type": "display_data"
    }
   ],
   "source": [
    "app_data.boxplot(column='size_bytes')"
   ]
  },
  {
   "cell_type": "code",
   "execution_count": 46,
   "metadata": {},
   "outputs": [
    {
     "data": {
      "text/plain": [
       "<AxesSubplot:>"
      ]
     },
     "execution_count": 46,
     "metadata": {},
     "output_type": "execute_result"
    },
    {
     "data": {
      "image/png": "[encoded data removed]",
      "text/plain": [
       "<Figure size 432x288 with 1 Axes>"
      ]
     },
     "metadata": {
      "needs_background": "light"
     },
     "output_type": "display_data"
    }
   ],
   "source": [
    "app_data.boxplot(column='price')"
   ]
  },
  {
   "cell_type": "code",
   "execution_count": 30,
   "metadata": {},
   "outputs": [
    {
     "data": {
      "text/plain": [
       "array([[<AxesSubplot:title={'center':'id'}>,\n",
       "        <AxesSubplot:title={'center':'size_bytes'}>,\n",
       "        <AxesSubplot:title={'center':'price'}>],\n",
       "       [<AxesSubplot:title={'center':'rating_count_tot'}>,\n",
       "        <AxesSubplot:title={'center':'rating_count_ver'}>,\n",
       "        <AxesSubplot:title={'center':'user_rating'}>],\n",
       "       [<AxesSubplot:title={'center':'user_rating_ver'}>,\n",
       "        <AxesSubplot:title={'center':'sup_devices.num'}>,\n",
       "        <AxesSubplot:title={'center':'ipadSc_urls.num'}>],\n",
       "       [<AxesSubplot:title={'center':'lang.num'}>,\n",
       "        <AxesSubplot:title={'center':'vpp_lic'}>, <AxesSubplot:>]],\n",
       "      dtype=object)"
      ]
     },
     "execution_count": 30,
     "metadata": {},
     "output_type": "execute_result"
    },
    {
     "data": {
      "image/png": "[encoded data removed]",
      "text/plain": [
       "<Figure size 432x288 with 12 Axes>"
      ]
     },
     "metadata": {
      "needs_background": "light"
     },
     "output_type": "display_data"
    }
   ],
   "source": [
    "app_data.hist()"
   ]
  },
  {
   "cell_type": "code",
   "execution_count": 31,
   "metadata": {},
   "outputs": [
    {
     "data": {
      "text/plain": [
       "array([[<AxesSubplot:title={'center':'size_bytes'}>]], dtype=object)"
      ]
     },
     "execution_count": 31,
     "metadata": {},
     "output_type": "execute_result"
    },
    {
     "data": {
      "image/png": "[encoded data removed]",
      "text/plain": [
       "<Figure size 432x288 with 1 Axes>"
      ]
     },
     "metadata": {
      "needs_background": "light"
     },
     "output_type": "display_data"
    }
   ],
   "source": [
    "app_data.hist(column='size_bytes')"
   ]
  },
  {
   "cell_type": "code",
   "execution_count": 37,
   "metadata": {},
   "outputs": [
    {
     "data": {
      "text/plain": [
       "array([[<AxesSubplot:title={'center':'price'}>]], dtype=object)"
      ]
     },
     "execution_count": 37,
     "metadata": {},
     "output_type": "execute_result"
    },
    {
     "data": {
      "image/png": "[encoded data removed]",
      "text/plain": [
       "<Figure size 432x288 with 1 Axes>"
      ]
     },
     "metadata": {
      "needs_background": "light"
     },
     "output_type": "display_data"
    }
   ],
   "source": [
    "app_data.hist(column='price')"
   ]
  },
  {
   "cell_type": "code",
   "execution_count": 34,
   "metadata": {},
   "outputs": [
    {
     "data": {
      "text/plain": [
       "array([[<AxesSubplot:title={'center':'user_rating'}>]], dtype=object)"
      ]
     },
     "execution_count": 34,
     "metadata": {},
     "output_type": "execute_result"
    },
    {
     "data": {
      "image/png": "[encoded data removed]",
      "text/plain": [
       "<Figure size 432x288 with 1 Axes>"
      ]
     },
     "metadata": {
      "needs_background": "light"
     },
     "output_type": "display_data"
    }
   ],
   "source": [
    "app_data.hist(column='user_rating')"
   ]
  },
  {
   "cell_type": "code",
   "execution_count": 41,
   "metadata": {},
   "outputs": [
    {
     "data": {
      "text/plain": [
       "array([[<AxesSubplot:title={'center':'lang.num'}>]], dtype=object)"
      ]
     },
     "execution_count": 41,
     "metadata": {},
     "output_type": "execute_result"
    },
    {
     "data": {
      "image/png": "[encoded data removed]",
      "text/plain": [
       "<Figure size 432x288 with 1 Axes>"
      ]
     },
     "metadata": {
      "needs_background": "light"
     },
     "output_type": "display_data"
    }
   ],
   "source": [
    "app_data.hist(column='lang.num' , grid=False, bins=15)"
   ]
  },
  {
   "cell_type": "code",
   "execution_count": 42,
   "metadata": {},
   "outputs": [
    {
     "name": "stdout",
     "output_type": "stream",
     "text": [
      "<class 'pandas.core.frame.DataFrame'>\n",
      "Int64Index: 7197 entries, 1 to 11097\n",
      "Data columns (total 16 columns):\n",
      " #   Column            Non-Null Count  Dtype  \n",
      "---  ------            --------------  -----  \n",
      " 0   id                7197 non-null   int64  \n",
      " 1   track_name        7197 non-null   object \n",
      " 2   size_bytes        7197 non-null   int64  \n",
      " 3   currency          7197 non-null   object \n",
      " 4   price             7197 non-null   float64\n",
      " 5   rating_count_tot  7197 non-null   int64  \n",
      " 6   rating_count_ver  7197 non-null   int64  \n",
      " 7   user_rating       7197 non-null   float64\n",
      " 8   user_rating_ver   7197 non-null   float64\n",
      " 9   ver               7197 non-null   object \n",
      " 10  cont_rating       7197 non-null   object \n",
      " 11  prime_genre       7197 non-null   object \n",
      " 12  sup_devices.num   7197 non-null   int64  \n",
      " 13  ipadSc_urls.num   7197 non-null   int64  \n",
      " 14  lang.num          7197 non-null   int64  \n",
      " 15  vpp_lic           7197 non-null   int64  \n",
      "dtypes: float64(3), int64(8), object(5)\n",
      "memory usage: 955.9+ KB\n"
     ]
    }
   ],
   "source": [
    "app_data.info()"
   ]
  },
  {
   "cell_type": "code",
   "execution_count": 43,
   "metadata": {},
   "outputs": [
    {
     "data": {
      "text/plain": [
       "115152"
      ]
     },
     "execution_count": 43,
     "metadata": {},
     "output_type": "execute_result"
    }
   ],
   "source": [
    "app_data.size"
   ]
  },
  {
   "cell_type": "code",
   "execution_count": 44,
   "metadata": {},
   "outputs": [
    {
     "data": {
      "text/plain": [
       "(7197, 16)"
      ]
     },
     "execution_count": 44,
     "metadata": {},
     "output_type": "execute_result"
    }
   ],
   "source": [
    "app_data.shape"
   ]
  },
  {
   "cell_type": "code",
   "execution_count": 47,
   "metadata": {},
   "outputs": [
    {
     "data": {
      "text/plain": [
       "id                  0\n",
       "track_name          0\n",
       "size_bytes          0\n",
       "currency            0\n",
       "price               0\n",
       "rating_count_tot    0\n",
       "rating_count_ver    0\n",
       "user_rating         0\n",
       "user_rating_ver     0\n",
       "ver                 0\n",
       "cont_rating         0\n",
       "prime_genre         0\n",
       "sup_devices.num     0\n",
       "ipadSc_urls.num     0\n",
       "lang.num            0\n",
       "vpp_lic             0\n",
       "dtype: int64"
      ]
     },
     "execution_count": 47,
     "metadata": {},
     "output_type": "execute_result"
    }
   ],
   "source": [
    "app_data.isnull().sum()"
   ]
  },
  {
   "cell_type": "code",
   "execution_count": null,
   "metadata": {},
   "outputs": [],
   "source": [
    "# no missing values"
   ]
  },
  {
   "cell_type": "code",
   "execution_count": 48,
   "metadata": {},
   "outputs": [
    {
     "data": {
      "text/html": [
       "<div>\n",
       "<style scoped>\n",
       "    .dataframe tbody tr th:only-of-type {\n",
       "        vertical-align: middle;\n",
       "    }\n",
       "\n",
       "    .dataframe tbody tr th {\n",
       "        vertical-align: top;\n",
       "    }\n",
       "\n",
       "    .dataframe thead th {\n",
       "        text-align: right;\n",
       "    }\n",
       "</style>\n",
       "<table border=\"1\" class=\"dataframe\">\n",
       "  <thead>\n",
       "    <tr style=\"text-align: right;\">\n",
       "      <th></th>\n",
       "      <th>id</th>\n",
       "      <th>track_name</th>\n",
       "      <th>size_bytes</th>\n",
       "      <th>currency</th>\n",
       "      <th>price</th>\n",
       "      <th>rating_count_tot</th>\n",
       "      <th>rating_count_ver</th>\n",
       "      <th>user_rating</th>\n",
       "      <th>user_rating_ver</th>\n",
       "      <th>ver</th>\n",
       "      <th>cont_rating</th>\n",
       "      <th>prime_genre</th>\n",
       "      <th>sup_devices.num</th>\n",
       "      <th>ipadSc_urls.num</th>\n",
       "      <th>lang.num</th>\n",
       "      <th>vpp_lic</th>\n",
       "    </tr>\n",
       "  </thead>\n",
       "  <tbody>\n",
       "  </tbody>\n",
       "</table>\n",
       "</div>"
      ],
      "text/plain": [
       "Empty DataFrame\n",
       "Columns: [id, track_name, size_bytes, currency, price, rating_count_tot, rating_count_ver, user_rating, user_rating_ver, ver, cont_rating, prime_genre, sup_devices.num, ipadSc_urls.num, lang.num, vpp_lic]\n",
       "Index: []"
      ]
     },
     "execution_count": 48,
     "metadata": {},
     "output_type": "execute_result"
    }
   ],
   "source": [
    "app_data[app_data.user_rating>5]"
   ]
  },
  {
   "cell_type": "code",
   "execution_count": 49,
   "metadata": {},
   "outputs": [
    {
     "data": {
      "text/html": [
       "<div>\n",
       "<style scoped>\n",
       "    .dataframe tbody tr th:only-of-type {\n",
       "        vertical-align: middle;\n",
       "    }\n",
       "\n",
       "    .dataframe tbody tr th {\n",
       "        vertical-align: top;\n",
       "    }\n",
       "\n",
       "    .dataframe thead th {\n",
       "        text-align: right;\n",
       "    }\n",
       "</style>\n",
       "<table border=\"1\" class=\"dataframe\">\n",
       "  <thead>\n",
       "    <tr style=\"text-align: right;\">\n",
       "      <th></th>\n",
       "      <th>id</th>\n",
       "      <th>track_name</th>\n",
       "      <th>size_bytes</th>\n",
       "      <th>currency</th>\n",
       "      <th>price</th>\n",
       "      <th>rating_count_tot</th>\n",
       "      <th>rating_count_ver</th>\n",
       "      <th>user_rating</th>\n",
       "      <th>user_rating_ver</th>\n",
       "      <th>ver</th>\n",
       "      <th>cont_rating</th>\n",
       "      <th>prime_genre</th>\n",
       "      <th>sup_devices.num</th>\n",
       "      <th>ipadSc_urls.num</th>\n",
       "      <th>lang.num</th>\n",
       "      <th>vpp_lic</th>\n",
       "    </tr>\n",
       "  </thead>\n",
       "  <tbody>\n",
       "  </tbody>\n",
       "</table>\n",
       "</div>"
      ],
      "text/plain": [
       "Empty DataFrame\n",
       "Columns: [id, track_name, size_bytes, currency, price, rating_count_tot, rating_count_ver, user_rating, user_rating_ver, ver, cont_rating, prime_genre, sup_devices.num, ipadSc_urls.num, lang.num, vpp_lic]\n",
       "Index: []"
      ]
     },
     "execution_count": 49,
     "metadata": {},
     "output_type": "execute_result"
    }
   ],
   "source": [
    "app_data[app_data.user_rating_ver>5]"
   ]
  },
  {
   "cell_type": "code",
   "execution_count": 50,
   "metadata": {},
   "outputs": [
    {
     "data": {
      "text/plain": [
       "<AxesSubplot:>"
      ]
     },
     "execution_count": 50,
     "metadata": {},
     "output_type": "execute_result"
    },
    {
     "data": {
      "image/png": "[encoded data removed]",
      "text/plain": [
       "<Figure size 432x288 with 1 Axes>"
      ]
     },
     "metadata": {
      "needs_background": "light"
     },
     "output_type": "display_data"
    }
   ],
   "source": [
    "app_data.boxplot(column='user_rating')"
   ]
  },
  {
   "cell_type": "code",
   "execution_count": 51,
   "metadata": {},
   "outputs": [
    {
     "data": {
      "text/plain": [
       "<AxesSubplot:>"
      ]
     },
     "execution_count": 51,
     "metadata": {},
     "output_type": "execute_result"
    },
    {
     "data": {
      "image/png": "[encoded data removed]",
      "text/plain": [
       "<Figure size 432x288 with 1 Axes>"
      ]
     },
     "metadata": {
      "needs_background": "light"
     },
     "output_type": "display_data"
    }
   ],
   "source": [
    "app_data.boxplot(column='user_rating_ver')"
   ]
  },
  {
   "cell_type": "code",
   "execution_count": 52,
   "metadata": {},
   "outputs": [
    {
     "data": {
      "text/plain": [
       "array([[<AxesSubplot:title={'center':'user_rating'}>]], dtype=object)"
      ]
     },
     "execution_count": 52,
     "metadata": {},
     "output_type": "execute_result"
    },
    {
     "data": {
      "image/png": "[encoded data removed]",
      "text/plain": [
       "<Figure size 432x288 with 1 Axes>"
      ]
     },
     "metadata": {
      "needs_background": "light"
     },
     "output_type": "display_data"
    }
   ],
   "source": [
    "app_data.hist(column='user_rating')"
   ]
  },
  {
   "cell_type": "code",
   "execution_count": 55,
   "metadata": {},
   "outputs": [
    {
     "data": {
      "text/plain": [
       "array([[<AxesSubplot:title={'center':'user_rating_ver'}>]], dtype=object)"
      ]
     },
     "execution_count": 55,
     "metadata": {},
     "output_type": "execute_result"
    },
    {
     "data": {
      "image/png": "[encoded data removed]",
      "text/plain": [
       "<Figure size 432x288 with 1 Axes>"
      ]
     },
     "metadata": {
      "needs_background": "light"
     },
     "output_type": "display_data"
    }
   ],
   "source": [
    "app_data.hist(column='user_rating_ver', color='red')"
   ]
  },
  {
   "cell_type": "code",
   "execution_count": 56,
   "metadata": {},
   "outputs": [],
   "source": [
    "app_data['cont_rating'] = app_data['cont_rating'].apply(lambda x: str(x).replace('+','') if '+' in str(x) else str(x))"
   ]
  },
  {
   "cell_type": "code",
   "execution_count": 57,
   "metadata": {},
   "outputs": [
    {
     "data": {
      "text/html": [
       "<div>\n",
       "<style scoped>\n",
       "    .dataframe tbody tr th:only-of-type {\n",
       "        vertical-align: middle;\n",
       "    }\n",
       "\n",
       "    .dataframe tbody tr th {\n",
       "        vertical-align: top;\n",
       "    }\n",
       "\n",
       "    .dataframe thead th {\n",
       "        text-align: right;\n",
       "    }\n",
       "</style>\n",
       "<table border=\"1\" class=\"dataframe\">\n",
       "  <thead>\n",
       "    <tr style=\"text-align: right;\">\n",
       "      <th></th>\n",
       "      <th>id</th>\n",
       "      <th>track_name</th>\n",
       "      <th>size_bytes</th>\n",
       "      <th>currency</th>\n",
       "      <th>price</th>\n",
       "      <th>rating_count_tot</th>\n",
       "      <th>rating_count_ver</th>\n",
       "      <th>user_rating</th>\n",
       "      <th>user_rating_ver</th>\n",
       "      <th>ver</th>\n",
       "      <th>cont_rating</th>\n",
       "      <th>prime_genre</th>\n",
       "      <th>sup_devices.num</th>\n",
       "      <th>ipadSc_urls.num</th>\n",
       "      <th>lang.num</th>\n",
       "      <th>vpp_lic</th>\n",
       "    </tr>\n",
       "  </thead>\n",
       "  <tbody>\n",
       "    <tr>\n",
       "      <th>1</th>\n",
       "      <td>281656475</td>\n",
       "      <td>PAC-MAN Premium</td>\n",
       "      <td>100788224</td>\n",
       "      <td>USD</td>\n",
       "      <td>3.99</td>\n",
       "      <td>21292</td>\n",
       "      <td>26</td>\n",
       "      <td>4.0</td>\n",
       "      <td>4.5</td>\n",
       "      <td>6.3.5</td>\n",
       "      <td>4</td>\n",
       "      <td>Games</td>\n",
       "      <td>38</td>\n",
       "      <td>5</td>\n",
       "      <td>10</td>\n",
       "      <td>1</td>\n",
       "    </tr>\n",
       "    <tr>\n",
       "      <th>2</th>\n",
       "      <td>281796108</td>\n",
       "      <td>Evernote - stay organized</td>\n",
       "      <td>158578688</td>\n",
       "      <td>USD</td>\n",
       "      <td>0.00</td>\n",
       "      <td>161065</td>\n",
       "      <td>26</td>\n",
       "      <td>4.0</td>\n",
       "      <td>3.5</td>\n",
       "      <td>8.2.2</td>\n",
       "      <td>4</td>\n",
       "      <td>Productivity</td>\n",
       "      <td>37</td>\n",
       "      <td>5</td>\n",
       "      <td>23</td>\n",
       "      <td>1</td>\n",
       "    </tr>\n",
       "    <tr>\n",
       "      <th>3</th>\n",
       "      <td>281940292</td>\n",
       "      <td>WeatherBug - Local Weather, Radar, Maps, Alerts</td>\n",
       "      <td>100524032</td>\n",
       "      <td>USD</td>\n",
       "      <td>0.00</td>\n",
       "      <td>188583</td>\n",
       "      <td>2822</td>\n",
       "      <td>3.5</td>\n",
       "      <td>4.5</td>\n",
       "      <td>5.0.0</td>\n",
       "      <td>4</td>\n",
       "      <td>Weather</td>\n",
       "      <td>37</td>\n",
       "      <td>5</td>\n",
       "      <td>3</td>\n",
       "      <td>1</td>\n",
       "    </tr>\n",
       "    <tr>\n",
       "      <th>4</th>\n",
       "      <td>282614216</td>\n",
       "      <td>eBay: Best App to Buy, Sell, Save! Online Shop...</td>\n",
       "      <td>128512000</td>\n",
       "      <td>USD</td>\n",
       "      <td>0.00</td>\n",
       "      <td>262241</td>\n",
       "      <td>649</td>\n",
       "      <td>4.0</td>\n",
       "      <td>4.5</td>\n",
       "      <td>5.10.0</td>\n",
       "      <td>12</td>\n",
       "      <td>Shopping</td>\n",
       "      <td>37</td>\n",
       "      <td>5</td>\n",
       "      <td>9</td>\n",
       "      <td>1</td>\n",
       "    </tr>\n",
       "    <tr>\n",
       "      <th>5</th>\n",
       "      <td>282935706</td>\n",
       "      <td>Bible</td>\n",
       "      <td>92774400</td>\n",
       "      <td>USD</td>\n",
       "      <td>0.00</td>\n",
       "      <td>985920</td>\n",
       "      <td>5320</td>\n",
       "      <td>4.5</td>\n",
       "      <td>5.0</td>\n",
       "      <td>7.5.1</td>\n",
       "      <td>4</td>\n",
       "      <td>Reference</td>\n",
       "      <td>37</td>\n",
       "      <td>5</td>\n",
       "      <td>45</td>\n",
       "      <td>1</td>\n",
       "    </tr>\n",
       "  </tbody>\n",
       "</table>\n",
       "</div>"
      ],
      "text/plain": [
       "          id                                         track_name  size_bytes  \\\n",
       "1  281656475                                    PAC-MAN Premium   100788224   \n",
       "2  281796108                          Evernote - stay organized   158578688   \n",
       "3  281940292    WeatherBug - Local Weather, Radar, Maps, Alerts   100524032   \n",
       "4  282614216  eBay: Best App to Buy, Sell, Save! Online Shop...   128512000   \n",
       "5  282935706                                              Bible    92774400   \n",
       "\n",
       "  currency  price  rating_count_tot  rating_count_ver  user_rating  \\\n",
       "1      USD   3.99             21292                26          4.0   \n",
       "2      USD   0.00            161065                26          4.0   \n",
       "3      USD   0.00            188583              2822          3.5   \n",
       "4      USD   0.00            262241               649          4.0   \n",
       "5      USD   0.00            985920              5320          4.5   \n",
       "\n",
       "   user_rating_ver     ver cont_rating   prime_genre  sup_devices.num  \\\n",
       "1              4.5   6.3.5           4         Games               38   \n",
       "2              3.5   8.2.2           4  Productivity               37   \n",
       "3              4.5   5.0.0           4       Weather               37   \n",
       "4              4.5  5.10.0          12      Shopping               37   \n",
       "5              5.0   7.5.1           4     Reference               37   \n",
       "\n",
       "   ipadSc_urls.num  lang.num  vpp_lic  \n",
       "1                5        10        1  \n",
       "2                5        23        1  \n",
       "3                5         3        1  \n",
       "4                5         9        1  \n",
       "5                5        45        1  "
      ]
     },
     "execution_count": 57,
     "metadata": {},
     "output_type": "execute_result"
    }
   ],
   "source": [
    "app_data.head()"
   ]
  },
  {
   "cell_type": "code",
   "execution_count": 60,
   "metadata": {},
   "outputs": [
    {
     "data": {
      "text/html": [
       "<div>\n",
       "<style scoped>\n",
       "    .dataframe tbody tr th:only-of-type {\n",
       "        vertical-align: middle;\n",
       "    }\n",
       "\n",
       "    .dataframe tbody tr th {\n",
       "        vertical-align: top;\n",
       "    }\n",
       "\n",
       "    .dataframe thead th {\n",
       "        text-align: right;\n",
       "    }\n",
       "</style>\n",
       "<table border=\"1\" class=\"dataframe\">\n",
       "  <thead>\n",
       "    <tr style=\"text-align: right;\">\n",
       "      <th></th>\n",
       "      <th>id</th>\n",
       "      <th>size_bytes</th>\n",
       "      <th>price</th>\n",
       "      <th>rating_count_tot</th>\n",
       "      <th>rating_count_ver</th>\n",
       "      <th>user_rating</th>\n",
       "      <th>user_rating_ver</th>\n",
       "      <th>cont_rating</th>\n",
       "      <th>sup_devices.num</th>\n",
       "      <th>ipadSc_urls.num</th>\n",
       "      <th>lang.num</th>\n",
       "      <th>vpp_lic</th>\n",
       "    </tr>\n",
       "  </thead>\n",
       "  <tbody>\n",
       "    <tr>\n",
       "      <th>count</th>\n",
       "      <td>7.197000e+03</td>\n",
       "      <td>7.197000e+03</td>\n",
       "      <td>7197.000000</td>\n",
       "      <td>7.197000e+03</td>\n",
       "      <td>7197.000000</td>\n",
       "      <td>7197.000000</td>\n",
       "      <td>7197.000000</td>\n",
       "      <td>7197.000000</td>\n",
       "      <td>7197.000000</td>\n",
       "      <td>7197.000000</td>\n",
       "      <td>7197.000000</td>\n",
       "      <td>7197.000000</td>\n",
       "    </tr>\n",
       "    <tr>\n",
       "      <th>mean</th>\n",
       "      <td>8.631310e+08</td>\n",
       "      <td>1.991345e+08</td>\n",
       "      <td>1.726218</td>\n",
       "      <td>1.289291e+04</td>\n",
       "      <td>460.373906</td>\n",
       "      <td>3.526956</td>\n",
       "      <td>3.253578</td>\n",
       "      <td>7.093094</td>\n",
       "      <td>37.361817</td>\n",
       "      <td>3.707100</td>\n",
       "      <td>5.434903</td>\n",
       "      <td>0.993053</td>\n",
       "    </tr>\n",
       "    <tr>\n",
       "      <th>std</th>\n",
       "      <td>2.712368e+08</td>\n",
       "      <td>3.592069e+08</td>\n",
       "      <td>5.833006</td>\n",
       "      <td>7.573941e+04</td>\n",
       "      <td>3920.455183</td>\n",
       "      <td>1.517948</td>\n",
       "      <td>1.809363</td>\n",
       "      <td>4.329046</td>\n",
       "      <td>3.737715</td>\n",
       "      <td>1.986005</td>\n",
       "      <td>7.919593</td>\n",
       "      <td>0.083066</td>\n",
       "    </tr>\n",
       "    <tr>\n",
       "      <th>min</th>\n",
       "      <td>2.816565e+08</td>\n",
       "      <td>5.898240e+05</td>\n",
       "      <td>0.000000</td>\n",
       "      <td>0.000000e+00</td>\n",
       "      <td>0.000000</td>\n",
       "      <td>0.000000</td>\n",
       "      <td>0.000000</td>\n",
       "      <td>4.000000</td>\n",
       "      <td>9.000000</td>\n",
       "      <td>0.000000</td>\n",
       "      <td>0.000000</td>\n",
       "      <td>0.000000</td>\n",
       "    </tr>\n",
       "    <tr>\n",
       "      <th>25%</th>\n",
       "      <td>6.000937e+08</td>\n",
       "      <td>4.692275e+07</td>\n",
       "      <td>0.000000</td>\n",
       "      <td>2.800000e+01</td>\n",
       "      <td>1.000000</td>\n",
       "      <td>3.500000</td>\n",
       "      <td>2.500000</td>\n",
       "      <td>4.000000</td>\n",
       "      <td>37.000000</td>\n",
       "      <td>3.000000</td>\n",
       "      <td>1.000000</td>\n",
       "      <td>1.000000</td>\n",
       "    </tr>\n",
       "    <tr>\n",
       "      <th>50%</th>\n",
       "      <td>9.781482e+08</td>\n",
       "      <td>9.715302e+07</td>\n",
       "      <td>0.000000</td>\n",
       "      <td>3.000000e+02</td>\n",
       "      <td>23.000000</td>\n",
       "      <td>4.000000</td>\n",
       "      <td>4.000000</td>\n",
       "      <td>4.000000</td>\n",
       "      <td>37.000000</td>\n",
       "      <td>5.000000</td>\n",
       "      <td>1.000000</td>\n",
       "      <td>1.000000</td>\n",
       "    </tr>\n",
       "    <tr>\n",
       "      <th>75%</th>\n",
       "      <td>1.082310e+09</td>\n",
       "      <td>1.819249e+08</td>\n",
       "      <td>1.990000</td>\n",
       "      <td>2.793000e+03</td>\n",
       "      <td>140.000000</td>\n",
       "      <td>4.500000</td>\n",
       "      <td>4.500000</td>\n",
       "      <td>9.000000</td>\n",
       "      <td>38.000000</td>\n",
       "      <td>5.000000</td>\n",
       "      <td>8.000000</td>\n",
       "      <td>1.000000</td>\n",
       "    </tr>\n",
       "    <tr>\n",
       "      <th>max</th>\n",
       "      <td>1.188376e+09</td>\n",
       "      <td>4.025970e+09</td>\n",
       "      <td>299.990000</td>\n",
       "      <td>2.974676e+06</td>\n",
       "      <td>177050.000000</td>\n",
       "      <td>5.000000</td>\n",
       "      <td>5.000000</td>\n",
       "      <td>17.000000</td>\n",
       "      <td>47.000000</td>\n",
       "      <td>5.000000</td>\n",
       "      <td>75.000000</td>\n",
       "      <td>1.000000</td>\n",
       "    </tr>\n",
       "  </tbody>\n",
       "</table>\n",
       "</div>"
      ],
      "text/plain": [
       "                 id    size_bytes        price  rating_count_tot  \\\n",
       "count  7.197000e+03  7.197000e+03  7197.000000      7.197000e+03   \n",
       "mean   8.631310e+08  1.991345e+08     1.726218      1.289291e+04   \n",
       "std    2.712368e+08  3.592069e+08     5.833006      7.573941e+04   \n",
       "min    2.816565e+08  5.898240e+05     0.000000      0.000000e+00   \n",
       "25%    6.000937e+08  4.692275e+07     0.000000      2.800000e+01   \n",
       "50%    9.781482e+08  9.715302e+07     0.000000      3.000000e+02   \n",
       "75%    1.082310e+09  1.819249e+08     1.990000      2.793000e+03   \n",
       "max    1.188376e+09  4.025970e+09   299.990000      2.974676e+06   \n",
       "\n",
       "       rating_count_ver  user_rating  user_rating_ver  cont_rating  \\\n",
       "count       7197.000000  7197.000000      7197.000000  7197.000000   \n",
       "mean         460.373906     3.526956         3.253578     7.093094   \n",
       "std         3920.455183     1.517948         1.809363     4.329046   \n",
       "min            0.000000     0.000000         0.000000     4.000000   \n",
       "25%            1.000000     3.500000         2.500000     4.000000   \n",
       "50%           23.000000     4.000000         4.000000     4.000000   \n",
       "75%          140.000000     4.500000         4.500000     9.000000   \n",
       "max       177050.000000     5.000000         5.000000    17.000000   \n",
       "\n",
       "       sup_devices.num  ipadSc_urls.num     lang.num      vpp_lic  \n",
       "count      7197.000000      7197.000000  7197.000000  7197.000000  \n",
       "mean         37.361817         3.707100     5.434903     0.993053  \n",
       "std           3.737715         1.986005     7.919593     0.083066  \n",
       "min           9.000000         0.000000     0.000000     0.000000  \n",
       "25%          37.000000         3.000000     1.000000     1.000000  \n",
       "50%          37.000000         5.000000     1.000000     1.000000  \n",
       "75%          38.000000         5.000000     8.000000     1.000000  \n",
       "max          47.000000         5.000000    75.000000     1.000000  "
      ]
     },
     "execution_count": 60,
     "metadata": {},
     "output_type": "execute_result"
    }
   ],
   "source": [
    "app_data.describe()"
   ]
  },
  {
   "cell_type": "code",
   "execution_count": 61,
   "metadata": {},
   "outputs": [
    {
     "name": "stdout",
     "output_type": "stream",
     "text": [
      "prime_genre\n",
      "Book                 2.477679\n",
      "Business             3.745614\n",
      "Catalogs             2.100000\n",
      "Education            3.376380\n",
      "Entertainment        3.246729\n",
      "Finance              2.432692\n",
      "Food & Drink         3.182540\n",
      "Games                3.685008\n",
      "Health & Fitness     3.700000\n",
      "Lifestyle            2.805556\n",
      "Medical              3.369565\n",
      "Music                3.978261\n",
      "Navigation           2.684783\n",
      "News                 2.980000\n",
      "Photo & Video        3.800860\n",
      "Productivity         4.005618\n",
      "Reference            3.453125\n",
      "Shopping             3.540984\n",
      "Social Networking    2.985030\n",
      "Sports               2.982456\n",
      "Travel               3.376543\n",
      "Utilities            3.278226\n",
      "Weather              3.597222\n",
      "Name: user_rating, dtype: float64\n",
      "prime_genre\n",
      "Book                 2.111607\n",
      "Business             3.333333\n",
      "Catalogs             2.100000\n",
      "Education            2.952539\n",
      "Entertainment        2.900000\n",
      "Finance              1.634615\n",
      "Food & Drink         2.412698\n",
      "Games                3.545184\n",
      "Health & Fitness     3.369444\n",
      "Lifestyle            2.218750\n",
      "Medical              3.260870\n",
      "Music                3.811594\n",
      "Navigation           2.152174\n",
      "News                 2.213333\n",
      "Photo & Video        3.485673\n",
      "Productivity         3.733146\n",
      "Reference            3.093750\n",
      "Shopping             2.618852\n",
      "Social Networking    2.482036\n",
      "Sports               2.548246\n",
      "Travel               2.820988\n",
      "Utilities            2.862903\n",
      "Weather              3.222222\n",
      "Name: user_rating_ver, dtype: float64\n",
      "prime_genre\n",
      "Book                  200.54\n",
      "Business              291.63\n",
      "Catalogs                7.99\n",
      "Education            1824.79\n",
      "Entertainment         475.99\n",
      "Finance                43.80\n",
      "Food & Drink           97.80\n",
      "Games                5533.95\n",
      "Health & Fitness      344.96\n",
      "Lifestyle             127.50\n",
      "Medical               201.85\n",
      "Music                 667.29\n",
      "Navigation            189.74\n",
      "News                   38.83\n",
      "Photo & Video         514.18\n",
      "Productivity          770.84\n",
      "Reference             309.56\n",
      "Shopping                1.99\n",
      "Social Networking      56.76\n",
      "Sports                108.65\n",
      "Travel                 90.75\n",
      "Utilities             408.61\n",
      "Weather               115.59\n",
      "Name: price, dtype: float64\n",
      "prime_genre\n",
      "Book                   4205\n",
      "Business               2059\n",
      "Catalogs                373\n",
      "Education             16614\n",
      "Entertainment         19619\n",
      "Finance                3831\n",
      "Food & Drink           2326\n",
      "Games                146827\n",
      "Health & Fitness       6460\n",
      "Lifestyle              5338\n",
      "Medical                 843\n",
      "Music                  4895\n",
      "Navigation             1667\n",
      "News                   2742\n",
      "Photo & Video         12828\n",
      "Productivity           6415\n",
      "Reference              2340\n",
      "Shopping               4468\n",
      "Social Networking      6099\n",
      "Sports                 4209\n",
      "Travel                 2998\n",
      "Utilities              9098\n",
      "Weather                2639\n",
      "Name: sup_devices.num, dtype: int64\n",
      "prime_genre\n",
      "Book                 2.991071\n",
      "Business             3.368421\n",
      "Catalogs             3.400000\n",
      "Education            4.421634\n",
      "Entertainment        3.050467\n",
      "Finance              1.721154\n",
      "Food & Drink         2.063492\n",
      "Games                4.298032\n",
      "Health & Fitness     2.450000\n",
      "Lifestyle            1.847222\n",
      "Medical              3.173913\n",
      "Music                3.637681\n",
      "Navigation           2.565217\n",
      "News                 2.760000\n",
      "Photo & Video        2.957020\n",
      "Productivity         3.808989\n",
      "Reference            3.906250\n",
      "Shopping             2.172131\n",
      "Social Networking    1.742515\n",
      "Sports               3.000000\n",
      "Travel               2.592593\n",
      "Utilities            2.725806\n",
      "Weather              3.125000\n",
      "Name: ipadSc_urls.num, dtype: float64\n"
     ]
    }
   ],
   "source": [
    "grp=app_data.groupby('prime_genre')\n",
    "x=grp['user_rating'].agg(np.mean)\n",
    "y=grp['user_rating_ver'].agg(np.mean)\n",
    "z=grp['price'].agg(np.sum)\n",
    "a=grp['sup_devices.num'].agg(np.sum)\n",
    "b=grp['ipadSc_urls.num'].agg(np.mean)\n",
    "print(x)\n",
    "print(y)\n",
    "print(z)\n",
    "print(a)\n",
    "print(b)"
   ]
  },
  {
   "cell_type": "code",
   "execution_count": 62,
   "metadata": {},
   "outputs": [
    {
     "data": {
      "text/plain": [
       "[<matplotlib.lines.Line2D at 0x21e6f34cb20>]"
      ]
     },
     "execution_count": 62,
     "metadata": {},
     "output_type": "execute_result"
    },
    {
     "data": {
      "image/png": "[encoded data removed]",
      "text/plain": [
       "<Figure size 432x288 with 1 Axes>"
      ]
     },
     "metadata": {
      "needs_background": "light"
     },
     "output_type": "display_data"
    }
   ],
   "source": [
    "plt.plot(x)"
   ]
  },
  {
   "cell_type": "code",
   "execution_count": 63,
   "metadata": {},
   "outputs": [
    {
     "data": {
      "image/png": "[encoded data removed]",
      "text/plain": [
       "<Figure size 1152x360 with 1 Axes>"
      ]
     },
     "metadata": {
      "needs_background": "light"
     },
     "output_type": "display_data"
    }
   ],
   "source": [
    "plt.figure(figsize=(16,5))\n",
    "plt.plot(x,'ro',color='green')\n",
    "plt.xticks(rotation=90)\n",
    "plt.title('prime_genre wise user_rating')\n",
    "plt.xlabel('prime_genre')\n",
    "plt.ylabel('user_rating')\n",
    "plt.show()"
   ]
  },
  {
   "cell_type": "code",
   "execution_count": 70,
   "metadata": {},
   "outputs": [
    {
     "data": {
      "image/png": "[encoded data removed]",
      "text/plain": [
       "<Figure size 1152x360 with 1 Axes>"
      ]
     },
     "metadata": {
      "needs_background": "light"
     },
     "output_type": "display_data"
    }
   ],
   "source": [
    "plt.figure(figsize=(16,5))\n",
    "plt.plot(y,'r--',color='red')\n",
    "plt.xticks(rotation=90)\n",
    "plt.title('prime_genre wise user_rating_ver')\n",
    "plt.xlabel('prime_genre')\n",
    "plt.ylabel('user_rating_ver')\n",
    "plt.show()"
   ]
  },
  {
   "cell_type": "code",
   "execution_count": 71,
   "metadata": {},
   "outputs": [
    {
     "data": {
      "image/png": "[encoded data removed]",
      "text/plain": [
       "<Figure size 1152x360 with 1 Axes>"
      ]
     },
     "metadata": {
      "needs_background": "light"
     },
     "output_type": "display_data"
    }
   ],
   "source": [
    "plt.figure(figsize=(16,5))\n",
    "plt.plot(z,'bs',color='blue')\n",
    "plt.xticks(rotation=90)\n",
    "plt.title('prime_genre wise price')\n",
    "plt.xlabel('prime_genre')\n",
    "plt.ylabel('price')\n",
    "plt.show()"
   ]
  },
  {
   "cell_type": "code",
   "execution_count": 72,
   "metadata": {},
   "outputs": [
    {
     "data": {
      "image/png": "[encoded data removed]",
      "text/plain": [
       "<Figure size 1152x360 with 1 Axes>"
      ]
     },
     "metadata": {
      "needs_background": "light"
     },
     "output_type": "display_data"
    }
   ],
   "source": [
    "plt.figure(figsize=(16,5))\n",
    "plt.plot(a,'-.',color='grey')\n",
    "plt.xticks(rotation=90)\n",
    "plt.title('prime_genre wise sup_devices.num')\n",
    "plt.xlabel('prime_genre')\n",
    "plt.ylabel('sup_devices.num')\n",
    "plt.show()"
   ]
  },
  {
   "cell_type": "code",
   "execution_count": null,
   "metadata": {},
   "outputs": [],
   "source": []
  }
 ],
 "metadata": {
  "kernelspec": {
   "display_name": "Python 3",
   "language": "python",
   "name": "python3"
  },
  "language_info": {
   "codemirror_mode": {
    "name": "ipython",
    "version": 3
   },
   "file_extension": ".py",
   "mimetype": "text/x-python",
   "name": "python",
   "nbconvert_exporter": "python",
   "pygments_lexer": "ipython3",
   "version": "3.8.5"
  }
 },
 "nbformat": 4,
 "nbformat_minor": 4
}
